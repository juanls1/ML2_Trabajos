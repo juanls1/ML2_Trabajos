{
 "cells": [
  {
   "cell_type": "markdown",
   "metadata": {},
   "source": [
    "# EDA for ENSEMBLE LEARNING ASSESMENT"
   ]
  },
  {
   "cell_type": "code",
   "execution_count": 1,
   "metadata": {},
   "outputs": [],
   "source": [
    "import pandas as pd"
   ]
  },
  {
   "cell_type": "markdown",
   "metadata": {},
   "source": [
    "### Lectura de Datos"
   ]
  },
  {
   "cell_type": "code",
   "execution_count": 3,
   "metadata": {},
   "outputs": [],
   "source": [
    "nom_fi_datos_Irrad = \"data/G10A_DATOS_IRRAD.csv\"\n",
    "df_orig_Irrad = pd.read_csv(nom_fi_datos_Irrad)\n",
    "\n",
    "# parseamos la fecha (cadena) para que sea un datetime con formato yyyy/mm/dd\n",
    "\n",
    "df_orig_Irrad['FECHA'] = pd.to_datetime(df_orig_Irrad['FECHA'], format='%Y-%m-%d')\n",
    "\n",
    "s = df_orig_Irrad.loc[:,'FECHA']\n",
    "df_orig_Irrad['FECHA'] =  s.dt.date"
   ]
  },
  {
   "cell_type": "code",
   "execution_count": 8,
   "metadata": {},
   "outputs": [],
   "source": [
    "nom_fi_datos_Util = \"data/G10A_DATOS_UTIL.csv\"\n",
    "df_orig_Util = pd.read_csv(nom_fi_datos_Util)\n",
    "\n",
    "df_orig_Util['FECHA'] = pd.to_datetime(df_orig_Util['FECHA'], format='%Y-%m-%d')\n",
    "\n",
    "s = df_orig_Util.loc[:,'FECHA']\n",
    "df_orig_Util['FECHA'] =  s.dt.date"
   ]
  },
  {
   "cell_type": "markdown",
   "metadata": {},
   "source": [
    "El primero de los dos dataframes contiene datos de irradiación solar acumulada cada 3 horas (es decir, la irradaición solar del tramo de la hora 0 es la acumulada de las horas 0, 1 y 2, su suma). Se conoce como irradiación solar a la irradiación neta absorbida por la superficie terrestre, siendo ésta la suma de la radiación directa, difusa (a través de nubes) y reflejada (por ejemplo, reflejada del suelo)."
   ]
  },
  {
   "cell_type": "markdown",
   "metadata": {},
   "source": [
    "Por otro lado tenemos los registros correspondientes de la utilización solar fotovoltaica, que se define como la generación solar horaria entre la potencia (por lo que es adimensional, y se encuentra entre 0 y 1). Además, la utilización horaria deñ tramo h no es la suma de las horas $h$, $h+1$ y $h+2$, sino su media."
   ]
  }
 ],
 "metadata": {
  "kernelspec": {
   "display_name": "ML",
   "language": "python",
   "name": "python3"
  },
  "language_info": {
   "codemirror_mode": {
    "name": "ipython",
    "version": 3
   },
   "file_extension": ".py",
   "mimetype": "text/x-python",
   "name": "python",
   "nbconvert_exporter": "python",
   "pygments_lexer": "ipython3",
   "version": "3.11.5"
  }
 },
 "nbformat": 4,
 "nbformat_minor": 2
}
